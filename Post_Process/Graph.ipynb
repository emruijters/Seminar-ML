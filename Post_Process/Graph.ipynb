{
 "cells": [
  {
   "cell_type": "code",
   "execution_count": null,
   "metadata": {},
   "outputs": [],
   "source": [
    "import seaborn as sns\n",
    "import matplotlib.pyplot as plt\n",
    "import pandas as pd"
   ]
  },
  {
   "cell_type": "code",
   "execution_count": null,
   "metadata": {},
   "outputs": [],
   "source": [
    "not_Post = pd.read_csv(\"notPost.csv\")"
   ]
  },
  {
   "cell_type": "code",
   "execution_count": null,
   "metadata": {},
   "outputs": [],
   "source": [
    "post = pd.read_csv(\"Post.csv\")"
   ]
  },
  {
   "cell_type": "code",
   "execution_count": null,
   "metadata": {},
   "outputs": [],
   "source": [
    "\n",
    "\n",
    "# Increase overall context settings; \"talk\" is one level larger, and you can adjust the scaling further.\n",
    "sns.set_context(\"talk\", font_scale=1.8)\n",
    "\n",
    "# Create the DataFrame as before.\n",
    "df_all = pd.concat([post, not_Post], ignore_index=True)\n",
    "\n",
    "# Melt the DataFrame into long format for multiple metrics.\n",
    "metrics = ['accuracy', 'disparate_impact', 'equal_opportunity_diff', 'average_odds_diff']\n",
    "df_long = df_all.melt(id_vars=['prediction_column', 'version'],\n",
    "                      value_vars=metrics,\n",
    "                      var_name='metric',\n",
    "                      value_name='value')\n",
    "\n",
    "# Create a facet grid: one subplot for each metric.\n",
    "g = sns.FacetGrid(df_long, col=\"metric\", sharey=False, height=15, aspect=0.7)\n",
    "g.map_dataframe(sns.barplot, x=\"prediction_column\", y=\"value\", hue=\"version\", palette=\"muted\")\n",
    "g.add_legend(title=\"Version\")\n",
    "g.set_xticklabels(rotation=45, horizontalalignment='right')\n",
    "g.set_titles(\"{col_name}\")\n",
    "\n",
    "# Remove borders on the bars.\n",
    "for ax in g.axes.flat:\n",
    "    for patch in ax.patches:\n",
    "        patch.set_linewidth(0)\n",
    "\n",
    "plt.tight_layout()\n",
    "plt.show()\n",
    "\n"
   ]
  }
 ],
 "metadata": {
  "kernelspec": {
   "display_name": "Python (base)",
   "language": "python",
   "name": "base"
  },
  "language_info": {
   "codemirror_mode": {
    "name": "ipython",
    "version": 3
   },
   "file_extension": ".py",
   "mimetype": "text/x-python",
   "name": "python",
   "nbconvert_exporter": "python",
   "pygments_lexer": "ipython3",
   "version": "3.12.9"
  },
  "latex_envs": {
   "LaTeX_envs_menu_present": true,
   "autoclose": false,
   "autocomplete": true,
   "bibliofile": "biblio.bib",
   "cite_by": "apalike",
   "current_citInitial": 1,
   "eqLabelWithNumbers": true,
   "eqNumInitial": 1,
   "hotkeys": {
    "equation": "Ctrl-E",
    "itemize": "Ctrl-I"
   },
   "labels_anchors": false,
   "latex_user_defs": false,
   "report_style_numbering": false,
   "user_envs_cfg": false
  }
 },
 "nbformat": 4,
 "nbformat_minor": 2
}
